{
 "cells": [
  {
   "cell_type": "markdown",
   "id": "8c581e4b",
   "metadata": {},
   "source": [
    "#factorial"
   ]
  },
  {
   "cell_type": "code",
   "execution_count": 1,
   "id": "c9f59ee2",
   "metadata": {},
   "outputs": [
    {
     "name": "stdout",
     "output_type": "stream",
     "text": [
      "Enter a Number 6\n",
      "The factorial of  6 is 720\n"
     ]
    }
   ],
   "source": [
    "num = int(input(\"Enter a Number \"))\n",
    "\n",
    "fact=1\n",
    "\n",
    "a=1\n",
    "\n",
    "while a<=num:\n",
    "    fact=fact*a\n",
    "    a=a+1\n",
    "    \n",
    "print(\"The factorial of \",num,\"is\",fact)"
   ]
  },
  {
   "cell_type": "code",
   "execution_count": 3,
   "id": "63242fd5",
   "metadata": {},
   "outputs": [
    {
     "name": "stdout",
     "output_type": "stream",
     "text": [
      "Enter a Number 9\n",
      "The factorial of 9 is 362880\n"
     ]
    }
   ],
   "source": [
    "num = int(input(\"Enter a Number \"))\n",
    "fact=1\n",
    "\n",
    "x=1\n",
    "\n",
    "while x<=num:\n",
    "    fact=fact*x\n",
    "    x=x+1\n",
    "  \n",
    "print (\"The factorial of\",num,\"is\", fact)    "
   ]
  },
  {
   "cell_type": "code",
   "execution_count": null,
   "id": "be3d35f8",
   "metadata": {},
   "outputs": [],
   "source": []
  },
  {
   "cell_type": "code",
   "execution_count": null,
   "id": "b18a3b9c",
   "metadata": {},
   "outputs": [],
   "source": []
  },
  {
   "cell_type": "code",
   "execution_count": null,
   "id": "52b6f19c",
   "metadata": {},
   "outputs": [],
   "source": []
  }
 ],
 "metadata": {
  "kernelspec": {
   "display_name": "Python 3",
   "language": "python",
   "name": "python3"
  },
  "language_info": {
   "codemirror_mode": {
    "name": "ipython",
    "version": 3
   },
   "file_extension": ".py",
   "mimetype": "text/x-python",
   "name": "python",
   "nbconvert_exporter": "python",
   "pygments_lexer": "ipython3",
   "version": "3.8.8"
  }
 },
 "nbformat": 4,
 "nbformat_minor": 5
}
