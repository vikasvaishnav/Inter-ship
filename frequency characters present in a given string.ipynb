{
 "cells": [
  {
   "cell_type": "code",
   "execution_count": 2,
   "id": "3dd7aa35",
   "metadata": {},
   "outputs": [
    {
     "name": "stdout",
     "output_type": "stream",
     "text": [
      "Enter a StringWrite a python program\n",
      "String is  Write a python program\n",
      "{'W': 1, 'r': 3, 'i': 1, 't': 2, 'e': 1, ' ': 3, 'a': 2, 'p': 2, 'y': 1, 'h': 1, 'o': 2, 'n': 1, 'g': 1, 'm': 1}\n",
      "W Occurs for  1 times\n",
      "r Occurs for  3 times\n",
      "i Occurs for  1 times\n",
      "t Occurs for  2 times\n",
      "e Occurs for  1 times\n",
      "  Occurs for  3 times\n",
      "a Occurs for  2 times\n",
      "p Occurs for  2 times\n",
      "y Occurs for  1 times\n",
      "h Occurs for  1 times\n",
      "o Occurs for  2 times\n",
      "n Occurs for  1 times\n",
      "g Occurs for  1 times\n",
      "m Occurs for  1 times\n"
     ]
    }
   ],
   "source": [
    "str=input(\"Enter a String\")\n",
    "print(\"String is \",str)\n",
    "count={}\n",
    "for x in str:\n",
    "    if x in count.keys():\n",
    "        count[x]+=1\n",
    "    else:\n",
    "        count[x]=1\n",
    "    \n",
    "print(count)\n",
    "for x in count.keys():\n",
    "    print(x, \"Occurs for \" , count[x],\"times\")"
   ]
  },
  {
   "cell_type": "code",
   "execution_count": null,
   "id": "9c825f44",
   "metadata": {},
   "outputs": [],
   "source": []
  },
  {
   "cell_type": "code",
   "execution_count": null,
   "id": "5220d316",
   "metadata": {},
   "outputs": [],
   "source": []
  },
  {
   "cell_type": "code",
   "execution_count": null,
   "id": "2582bcfe",
   "metadata": {},
   "outputs": [],
   "source": []
  },
  {
   "cell_type": "code",
   "execution_count": null,
   "id": "8af71375",
   "metadata": {},
   "outputs": [],
   "source": []
  },
  {
   "cell_type": "code",
   "execution_count": null,
   "id": "b5129bc5",
   "metadata": {},
   "outputs": [],
   "source": []
  },
  {
   "cell_type": "code",
   "execution_count": null,
   "id": "fbec8a0d",
   "metadata": {},
   "outputs": [],
   "source": []
  },
  {
   "cell_type": "code",
   "execution_count": null,
   "id": "404bf51d",
   "metadata": {},
   "outputs": [],
   "source": []
  },
  {
   "cell_type": "code",
   "execution_count": null,
   "id": "7d19ba10",
   "metadata": {},
   "outputs": [],
   "source": []
  }
 ],
 "metadata": {
  "kernelspec": {
   "display_name": "Python 3",
   "language": "python",
   "name": "python3"
  },
  "language_info": {
   "codemirror_mode": {
    "name": "ipython",
    "version": 3
   },
   "file_extension": ".py",
   "mimetype": "text/x-python",
   "name": "python",
   "nbconvert_exporter": "python",
   "pygments_lexer": "ipython3",
   "version": "3.8.8"
  }
 },
 "nbformat": 4,
 "nbformat_minor": 5
}
