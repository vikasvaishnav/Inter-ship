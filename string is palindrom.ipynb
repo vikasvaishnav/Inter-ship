{
 "cells": [
  {
   "cell_type": "markdown",
   "id": "43468adf",
   "metadata": {},
   "source": [
    "#String Palindrom "
   ]
  },
  {
   "cell_type": "code",
   "execution_count": 1,
   "id": "aba6b986",
   "metadata": {},
   "outputs": [
    {
     "name": "stdout",
     "output_type": "stream",
     "text": [
      "Enter Stringmadam\n",
      "Palindrome String\n"
     ]
    }
   ],
   "source": [
    "a=input(\"Enter String\")\n",
    "b=a[-1::-1]\n",
    "if(a==b):\n",
    "    print(\"Palindrome String\")\n",
    "else:\n",
    "    print(\"Not Palindrome\")"
   ]
  },
  {
   "cell_type": "code",
   "execution_count": 2,
   "id": "cf372070",
   "metadata": {},
   "outputs": [
    {
     "name": "stdout",
     "output_type": "stream",
     "text": [
      "Enter Stringscience \n",
      "Not Palindrome\n"
     ]
    }
   ],
   "source": [
    "a=input(\"Enter String\")\n",
    "b=a[-1::-1]\n",
    "if(a==b):\n",
    "    print(\"Palindrome String\")\n",
    "else:\n",
    "    print(\"Not Palindrome\")"
   ]
  },
  {
   "cell_type": "code",
   "execution_count": null,
   "id": "cd942087",
   "metadata": {},
   "outputs": [],
   "source": []
  },
  {
   "cell_type": "code",
   "execution_count": null,
   "id": "55b98cc7",
   "metadata": {},
   "outputs": [],
   "source": []
  },
  {
   "cell_type": "code",
   "execution_count": null,
   "id": "b26bf47b",
   "metadata": {},
   "outputs": [],
   "source": []
  },
  {
   "cell_type": "code",
   "execution_count": null,
   "id": "a8def5f1",
   "metadata": {},
   "outputs": [],
   "source": []
  },
  {
   "cell_type": "code",
   "execution_count": null,
   "id": "6f5ccd26",
   "metadata": {},
   "outputs": [],
   "source": []
  }
 ],
 "metadata": {
  "kernelspec": {
   "display_name": "Python 3",
   "language": "python",
   "name": "python3"
  },
  "language_info": {
   "codemirror_mode": {
    "name": "ipython",
    "version": 3
   },
   "file_extension": ".py",
   "mimetype": "text/x-python",
   "name": "python",
   "nbconvert_exporter": "python",
   "pygments_lexer": "ipython3",
   "version": "3.8.8"
  }
 },
 "nbformat": 4,
 "nbformat_minor": 5
}
